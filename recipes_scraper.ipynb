{
 "cells": [
  {
   "cell_type": "markdown",
   "metadata": {},
   "source": [
    "## Load libraries"
   ]
  },
  {
   "cell_type": "code",
   "execution_count": 2,
   "metadata": {},
   "outputs": [],
   "source": [
    "import requests\n",
    "from bs4 import BeautifulSoup\n",
    "import pandas as pd"
   ]
  },
  {
   "cell_type": "markdown",
   "metadata": {},
   "source": [
    "## List with the url address of each recipe from www.przepisy.pl"
   ]
  },
  {
   "cell_type": "code",
   "execution_count": 3,
   "metadata": {},
   "outputs": [],
   "source": [
    "recipe_url='https://www.przepisy.pl/przepisy/szukaj/*'"
   ]
  },
  {
   "cell_type": "code",
   "execution_count": 4,
   "metadata": {},
   "outputs": [],
   "source": [
    "recipe_url_bs = BeautifulSoup(requests.get(recipe_url).text, 'lxml')"
   ]
  },
  {
   "cell_type": "code",
   "execution_count": 5,
   "metadata": {},
   "outputs": [],
   "source": [
    "recipe_url_page=recipe_url_bs.select('app-pagination a.pagination__btn')"
   ]
  },
  {
   "cell_type": "code",
   "execution_count": 7,
   "metadata": {},
   "outputs": [],
   "source": [
    "recipe_url_pages=[element.text.strip() for element in recipe_url_page]\n",
    "recipe_url_pages=[int(element) for element in recipe_url_pages if element!='']\n",
    "page_number=max(recipe_url_pages)"
   ]
  },
  {
   "cell_type": "code",
   "execution_count": 10,
   "metadata": {},
   "outputs": [],
   "source": [
    "recipes = []\n",
    "\n",
    "for i in range(1,page_number-1):\n",
    "        recipe_url='https://www.przepisy.pl/przepisy/posilek/dania-do-pracy?page='+str(i)\n",
    "        bs_lunch = BeautifulSoup(requests.get(recipe_url).text, 'lxml')\n",
    "        recipe_lu=bs_lunch.select('div.title-recipe a.recipe-box__title')\n",
    "        for recipe in recipe_lu:\n",
    "            recipe_address = recipe['href']\n",
    "            recipes.append( recipe_address )"
   ]
  },
  {
   "cell_type": "markdown",
   "metadata": {},
   "source": [
    "## Matrix with ingredients"
   ]
  },
  {
   "cell_type": "markdown",
   "metadata": {},
   "source": [
    "Structure created based on code: https://github.com/dataworkshop/dw-cracow-project/blob/master/personal/PawelDulak/recipes_shopping_list/ingrediends_scraping/scraping_przepisy_pl.ipynb"
   ]
  },
  {
   "cell_type": "code",
   "execution_count": 11,
   "metadata": {},
   "outputs": [],
   "source": [
    "ingredients = []\n",
    "for recipe in recipes:\n",
    "    bs = BeautifulSoup(requests.get(recipe).text, 'lxml')\n",
    "    ingredients_ul = bs.select('ul.ingredient-ul li.ingredient-li')\n",
    "    for ingredient_li in ingredients_ul:\n",
    "        ingredient_name = ingredient_li.select_one('div.ingredient-name input').get('id')\n",
    "        ingredient_quantity_tag = ingredient_li.select_one('span.quantity')\n",
    "        if ingredient_quantity_tag:\n",
    "            ingredient_quantity = ingredient_quantity_tag.text\n",
    "        else: \n",
    "            ingredient_quantity = '---'\n",
    "    \n",
    "        ingredients.append( [recipe, ingredient_name, ingredient_quantity] )"
   ]
  },
  {
   "cell_type": "markdown",
   "metadata": {},
   "source": [
    "## Save matrix to CSV file"
   ]
  },
  {
   "cell_type": "code",
   "execution_count": 13,
   "metadata": {},
   "outputs": [],
   "source": [
    "ingredients_df = pd.DataFrame(ingredients, columns=['URL','nazwa_skladnika','ilosc'])\n",
    "ingredients_df.to_csv('ingredients.csv', index=False, header=True)"
   ]
  },
  {
   "cell_type": "code",
   "execution_count": null,
   "metadata": {},
   "outputs": [],
   "source": []
  }
 ],
 "metadata": {
  "kernelspec": {
   "display_name": "Python 3",
   "language": "python",
   "name": "python3"
  },
  "language_info": {
   "codemirror_mode": {
    "name": "ipython",
    "version": 3
   },
   "file_extension": ".py",
   "mimetype": "text/x-python",
   "name": "python",
   "nbconvert_exporter": "python",
   "pygments_lexer": "ipython3",
   "version": "3.6.9"
  }
 },
 "nbformat": 4,
 "nbformat_minor": 2
}
